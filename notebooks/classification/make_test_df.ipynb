{
 "cells": [
  {
   "cell_type": "code",
   "execution_count": 64,
   "metadata": {},
   "outputs": [],
   "source": [
    "import numpy as np # linear algebra\n",
    "import pandas as pd\n",
    "import matplotlib.pyplot as plt # to show images\n",
    "from PIL import Image # to read images\n",
    "import os\n",
    "from glob import glob"
   ]
  },
  {
   "cell_type": "code",
   "execution_count": 65,
   "metadata": {},
   "outputs": [
    {
     "name": "stdout",
     "output_type": "stream",
     "text": [
      "/data1/r_suzuki/pipeline/BaseModel/notebooks/classification\n"
     ]
    }
   ],
   "source": [
    "!pwd"
   ]
  },
  {
   "cell_type": "code",
   "execution_count": 66,
   "metadata": {},
   "outputs": [],
   "source": [
    "img_dir = '/data1/r_suzuki/pipeline/BaseModel/data/person_attribute_demo/raw/images'"
   ]
  },
  {
   "cell_type": "code",
   "execution_count": 67,
   "metadata": {},
   "outputs": [],
   "source": [
    "test_fns = glob(img_dir + '/*')"
   ]
  },
  {
   "cell_type": "code",
   "execution_count": 68,
   "metadata": {},
   "outputs": [
    {
     "data": {
      "text/plain": [
       "['/data1/r_suzuki/pipeline/BaseModel/data/person_attribute_demo/raw/images/00000716_12227.jpg',\n",
       " '/data1/r_suzuki/pipeline/BaseModel/data/person_attribute_demo/raw/images/00001160_22382.jpg']"
      ]
     },
     "execution_count": 68,
     "metadata": {},
     "output_type": "execute_result"
    }
   ],
   "source": [
    "test_fns[:2]"
   ]
  },
  {
   "cell_type": "code",
   "execution_count": 69,
   "metadata": {},
   "outputs": [],
   "source": [
    "image_id_col_name = 'image_id'\n",
    "all_images = pd.DataFrame([fns.split('/')[-1] for fns in test_fns]) #[:-4]\n",
    "all_images['image_path'] = [fns for fns in test_fns]\n",
    "all_images.columns=[image_id_col_name, 'image_path']"
   ]
  },
  {
   "cell_type": "code",
   "execution_count": 70,
   "metadata": {},
   "outputs": [
    {
     "data": {
      "text/plain": [
       "array(['/data1/r_suzuki/pipeline/BaseModel/data/person_attribute_demo/raw/images/00000716_12227.jpg',\n",
       "       '/data1/r_suzuki/pipeline/BaseModel/data/person_attribute_demo/raw/images/00001160_22382.jpg',\n",
       "       '/data1/r_suzuki/pipeline/BaseModel/data/person_attribute_demo/raw/images/00001023_19430.jpg',\n",
       "       ...,\n",
       "       '/data1/r_suzuki/pipeline/BaseModel/data/person_attribute_demo/raw/images/00000733_12837.jpg',\n",
       "       '/data1/r_suzuki/pipeline/BaseModel/data/person_attribute_demo/raw/images/00001718_34588.jpg',\n",
       "       '/data1/r_suzuki/pipeline/BaseModel/data/person_attribute_demo/raw/images/00001750_35808.jpg'],\n",
       "      dtype=object)"
      ]
     },
     "execution_count": 70,
     "metadata": {},
     "output_type": "execute_result"
    }
   ],
   "source": [
    "all_images.image_path.values"
   ]
  },
  {
   "cell_type": "code",
   "execution_count": 71,
   "metadata": {},
   "outputs": [
    {
     "data": {
      "text/html": [
       "<div>\n",
       "<style scoped>\n",
       "    .dataframe tbody tr th:only-of-type {\n",
       "        vertical-align: middle;\n",
       "    }\n",
       "\n",
       "    .dataframe tbody tr th {\n",
       "        vertical-align: top;\n",
       "    }\n",
       "\n",
       "    .dataframe thead th {\n",
       "        text-align: right;\n",
       "    }\n",
       "</style>\n",
       "<table border=\"1\" class=\"dataframe\">\n",
       "  <thead>\n",
       "    <tr style=\"text-align: right;\">\n",
       "      <th></th>\n",
       "      <th>image_id</th>\n",
       "      <th>image_path</th>\n",
       "    </tr>\n",
       "  </thead>\n",
       "  <tbody>\n",
       "    <tr>\n",
       "      <th>0</th>\n",
       "      <td>00000716_12227.jpg</td>\n",
       "      <td>/data1/r_suzuki/pipeline/BaseModel/data/person...</td>\n",
       "    </tr>\n",
       "    <tr>\n",
       "      <th>1</th>\n",
       "      <td>00001160_22382.jpg</td>\n",
       "      <td>/data1/r_suzuki/pipeline/BaseModel/data/person...</td>\n",
       "    </tr>\n",
       "    <tr>\n",
       "      <th>2</th>\n",
       "      <td>00001023_19430.jpg</td>\n",
       "      <td>/data1/r_suzuki/pipeline/BaseModel/data/person...</td>\n",
       "    </tr>\n",
       "    <tr>\n",
       "      <th>3</th>\n",
       "      <td>00000735_12894.jpg</td>\n",
       "      <td>/data1/r_suzuki/pipeline/BaseModel/data/person...</td>\n",
       "    </tr>\n",
       "    <tr>\n",
       "      <th>4</th>\n",
       "      <td>00000612_9008.jpg</td>\n",
       "      <td>/data1/r_suzuki/pipeline/BaseModel/data/person...</td>\n",
       "    </tr>\n",
       "    <tr>\n",
       "      <th>...</th>\n",
       "      <td>...</td>\n",
       "      <td>...</td>\n",
       "    </tr>\n",
       "    <tr>\n",
       "      <th>42671</th>\n",
       "      <td>00000616_9110.jpg</td>\n",
       "      <td>/data1/r_suzuki/pipeline/BaseModel/data/person...</td>\n",
       "    </tr>\n",
       "    <tr>\n",
       "      <th>42672</th>\n",
       "      <td>00001419_28070.jpg</td>\n",
       "      <td>/data1/r_suzuki/pipeline/BaseModel/data/person...</td>\n",
       "    </tr>\n",
       "    <tr>\n",
       "      <th>42673</th>\n",
       "      <td>00000733_12837.jpg</td>\n",
       "      <td>/data1/r_suzuki/pipeline/BaseModel/data/person...</td>\n",
       "    </tr>\n",
       "    <tr>\n",
       "      <th>42674</th>\n",
       "      <td>00001718_34588.jpg</td>\n",
       "      <td>/data1/r_suzuki/pipeline/BaseModel/data/person...</td>\n",
       "    </tr>\n",
       "    <tr>\n",
       "      <th>42675</th>\n",
       "      <td>00001750_35808.jpg</td>\n",
       "      <td>/data1/r_suzuki/pipeline/BaseModel/data/person...</td>\n",
       "    </tr>\n",
       "  </tbody>\n",
       "</table>\n",
       "<p>42676 rows × 2 columns</p>\n",
       "</div>"
      ],
      "text/plain": [
       "                 image_id                                         image_path\n",
       "0      00000716_12227.jpg  /data1/r_suzuki/pipeline/BaseModel/data/person...\n",
       "1      00001160_22382.jpg  /data1/r_suzuki/pipeline/BaseModel/data/person...\n",
       "2      00001023_19430.jpg  /data1/r_suzuki/pipeline/BaseModel/data/person...\n",
       "3      00000735_12894.jpg  /data1/r_suzuki/pipeline/BaseModel/data/person...\n",
       "4       00000612_9008.jpg  /data1/r_suzuki/pipeline/BaseModel/data/person...\n",
       "...                   ...                                                ...\n",
       "42671   00000616_9110.jpg  /data1/r_suzuki/pipeline/BaseModel/data/person...\n",
       "42672  00001419_28070.jpg  /data1/r_suzuki/pipeline/BaseModel/data/person...\n",
       "42673  00000733_12837.jpg  /data1/r_suzuki/pipeline/BaseModel/data/person...\n",
       "42674  00001718_34588.jpg  /data1/r_suzuki/pipeline/BaseModel/data/person...\n",
       "42675  00001750_35808.jpg  /data1/r_suzuki/pipeline/BaseModel/data/person...\n",
       "\n",
       "[42676 rows x 2 columns]"
      ]
     },
     "execution_count": 71,
     "metadata": {},
     "output_type": "execute_result"
    }
   ],
   "source": [
    "all_images"
   ]
  },
  {
   "cell_type": "code",
   "execution_count": 72,
   "metadata": {},
   "outputs": [],
   "source": [
    "out_path = '/data1/r_suzuki/pipeline/BaseModel/data/person_attribute_demo/split/test_v1.csv'\n",
    "all_images.to_csv(out_path, index=False)"
   ]
  },
  {
   "cell_type": "code",
   "execution_count": 55,
   "metadata": {},
   "outputs": [
    {
     "name": "stdout",
     "output_type": "stream",
     "text": [
      "ls: cannot access '../../data/person_attribute_demo/raw/images/007904.jpg': No such file or directory\n"
     ]
    }
   ],
   "source": [
    "!ls ../../data/person_attribute_demo/raw/images/007904.jpg"
   ]
  },
  {
   "cell_type": "code",
   "execution_count": null,
   "metadata": {},
   "outputs": [],
   "source": []
  }
 ],
 "metadata": {
  "kernelspec": {
   "display_name": "Python 3",
   "language": "python",
   "name": "python3"
  },
  "language_info": {
   "codemirror_mode": {
    "name": "ipython",
    "version": 3
   },
   "file_extension": ".py",
   "mimetype": "text/x-python",
   "name": "python",
   "nbconvert_exporter": "python",
   "pygments_lexer": "ipython3",
   "version": "3.8.0"
  }
 },
 "nbformat": 4,
 "nbformat_minor": 4
}
